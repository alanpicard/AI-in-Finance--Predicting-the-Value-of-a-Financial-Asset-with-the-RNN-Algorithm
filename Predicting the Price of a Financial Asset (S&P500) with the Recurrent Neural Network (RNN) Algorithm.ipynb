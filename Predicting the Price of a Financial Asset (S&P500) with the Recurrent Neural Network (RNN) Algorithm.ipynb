{
 "cells": [
  {
   "cell_type": "markdown",
   "metadata": {},
   "source": [
    "<img align = \"right\" width = 250 height = 10 src=\"https://imgur.com/25Hmdj1.jpeg\">"
   ]
  },
  {
   "cell_type": "markdown",
   "metadata": {},
   "source": [
    "<div style=\"direction:rtl\"> <font face= \"calibri\" size=\"6.9\" color=#2E86C1> AI in Finance</font> </div> \n",
    "<!-- 29B673 2971B6 #85929E #E5E8E8-->\n",
    "<div style=\"direction:rtl\"> <font face= \"calibri\" size=\"5px\" color=#185084><b>Applying the RNN Algorithm to </b></font> </div>\n",
    "<div style=\"direction:rtl\"> <font face= \"calibri\" size=\"5px\" color=#185084><b>Predict the Price of a Financial Asset  </b></font> </div>"
   ]
  },
  {
   "cell_type": "markdown",
   "metadata": {},
   "source": [
    "<font face= \"calibri\" size=\"4.5\" color=#1C365B><b> Author: Alan Picard |</b></font> \n",
    "<a  style=\"color:#1C365B ; font-size: 15.8px; face= calibri\"  href= \"mailto: picard.alan@gmail.com\" > email </a> \n"
   ]
  },
  {
   "cell_type": "markdown",
   "metadata": {},
   "source": [
    "<font face= \"calibri\" size=\"4\" color=#1C365B> This project shows how to implement the Recurrent Neural Network, a popular AI algorithm, to predict the direction of the price/value of a financial asset, in this case the S&P500.</font> "
   ]
  },
  {
   "cell_type": "markdown",
   "metadata": {},
   "source": [
    "<font face= \"calibri\" size=\"4\" color=#0066ff>Disclaimer: The purpose of this article is solely informational and educational in order to provide a basic introduction on how Artiﬁcial Intelligence can be applied in ﬁnance. As with any ﬁnancial assets and trading strategies, the model and results presented in this project do not guarantee future performance. The author, hence, will not bear any responsability for the outcomes obtained if one desires to implement the model. Moreover, the strategy exhibited below does not account for trading fees.</font> \n"
   ]
  },
  {
   "cell_type": "markdown",
   "metadata": {},
   "source": [
    "<font size= 5px color=#185084 face= \"calibri\"><b> 1. Retrieving Financial Data </b></font> "
   ]
  },
  {
   "cell_type": "markdown",
   "metadata": {},
   "source": [
    "<font face= \"calibri\" size=\"4\" color=#1C365B> The first step is to retrieve historical data of the asset of interest. Many approaches are possible to obtain the historical prices of any financial asset from the web. This project will use Yahoo Finance website to get past performance of the S&P500. Please check the other project on my github account to learn how you can retrieve historical financial data for any currency, stock price, fixed income instrument, commodity, economic data (e.g. US GDP) and world indices.</font> "
   ]
  },
  {
   "cell_type": "code",
   "execution_count": 2,
   "metadata": {},
   "outputs": [],
   "source": [
    "# Importing the libraries\n",
    "import numpy as np\n",
    "import pandas as pd\n",
    "import matplotlib.pyplot as mp\n",
    "from pylab import plt\n",
    "plt.style.use('seaborn')\n",
    "%matplotlib inline\n",
    "import datetime\n",
    "import matplotlib.pyplot as plt\n",
    "from pandas_datareader import data as web # library to retrieve financial data from websites such as Yahoo Finance               "
   ]
  },
  {
   "cell_type": "code",
   "execution_count": 35,
   "metadata": {},
   "outputs": [
    {
     "name": "stdout",
     "output_type": "stream",
     "text": [
      "Enter the symbol: ^GSPC\n",
      "Enter the start of the sample period (yyyy-mm-dd): 2015-01-01\n",
      "Enter the end of the sample period (yyyy-mm-dd): 2020-01-31\n"
     ]
    },
    {
     "data": {
      "text/html": [
       "<div>\n",
       "<style scoped>\n",
       "    .dataframe tbody tr th:only-of-type {\n",
       "        vertical-align: middle;\n",
       "    }\n",
       "\n",
       "    .dataframe tbody tr th {\n",
       "        vertical-align: top;\n",
       "    }\n",
       "\n",
       "    .dataframe thead th {\n",
       "        text-align: right;\n",
       "    }\n",
       "</style>\n",
       "<table border=\"1\" class=\"dataframe\">\n",
       "  <thead>\n",
       "    <tr style=\"text-align: right;\">\n",
       "      <th></th>\n",
       "      <th>High</th>\n",
       "      <th>Low</th>\n",
       "      <th>Open</th>\n",
       "      <th>Close</th>\n",
       "      <th>Volume</th>\n",
       "      <th>Adj Close</th>\n",
       "    </tr>\n",
       "    <tr>\n",
       "      <th>Date</th>\n",
       "      <th></th>\n",
       "      <th></th>\n",
       "      <th></th>\n",
       "      <th></th>\n",
       "      <th></th>\n",
       "      <th></th>\n",
       "    </tr>\n",
       "  </thead>\n",
       "  <tbody>\n",
       "    <tr>\n",
       "      <th>2015-01-02</th>\n",
       "      <td>2072.360107</td>\n",
       "      <td>2046.040039</td>\n",
       "      <td>2058.899902</td>\n",
       "      <td>2058.199951</td>\n",
       "      <td>2708700000</td>\n",
       "      <td>2058.199951</td>\n",
       "    </tr>\n",
       "    <tr>\n",
       "      <th>2015-01-05</th>\n",
       "      <td>2054.439941</td>\n",
       "      <td>2017.339966</td>\n",
       "      <td>2054.439941</td>\n",
       "      <td>2020.579956</td>\n",
       "      <td>3799120000</td>\n",
       "      <td>2020.579956</td>\n",
       "    </tr>\n",
       "    <tr>\n",
       "      <th>2015-01-06</th>\n",
       "      <td>2030.250000</td>\n",
       "      <td>1992.439941</td>\n",
       "      <td>2022.150024</td>\n",
       "      <td>2002.609985</td>\n",
       "      <td>4460110000</td>\n",
       "      <td>2002.609985</td>\n",
       "    </tr>\n",
       "    <tr>\n",
       "      <th>2015-01-07</th>\n",
       "      <td>2029.609985</td>\n",
       "      <td>2005.550049</td>\n",
       "      <td>2005.550049</td>\n",
       "      <td>2025.900024</td>\n",
       "      <td>3805480000</td>\n",
       "      <td>2025.900024</td>\n",
       "    </tr>\n",
       "    <tr>\n",
       "      <th>2015-01-08</th>\n",
       "      <td>2064.080078</td>\n",
       "      <td>2030.609985</td>\n",
       "      <td>2030.609985</td>\n",
       "      <td>2062.139893</td>\n",
       "      <td>3934010000</td>\n",
       "      <td>2062.139893</td>\n",
       "    </tr>\n",
       "    <tr>\n",
       "      <th>...</th>\n",
       "      <td>...</td>\n",
       "      <td>...</td>\n",
       "      <td>...</td>\n",
       "      <td>...</td>\n",
       "      <td>...</td>\n",
       "      <td>...</td>\n",
       "    </tr>\n",
       "    <tr>\n",
       "      <th>2020-01-27</th>\n",
       "      <td>3258.850098</td>\n",
       "      <td>3234.500000</td>\n",
       "      <td>3247.159912</td>\n",
       "      <td>3243.629883</td>\n",
       "      <td>3823100000</td>\n",
       "      <td>3243.629883</td>\n",
       "    </tr>\n",
       "    <tr>\n",
       "      <th>2020-01-28</th>\n",
       "      <td>3285.780029</td>\n",
       "      <td>3253.219971</td>\n",
       "      <td>3255.350098</td>\n",
       "      <td>3276.239990</td>\n",
       "      <td>3526720000</td>\n",
       "      <td>3276.239990</td>\n",
       "    </tr>\n",
       "    <tr>\n",
       "      <th>2020-01-29</th>\n",
       "      <td>3293.469971</td>\n",
       "      <td>3271.889893</td>\n",
       "      <td>3289.459961</td>\n",
       "      <td>3273.399902</td>\n",
       "      <td>3584500000</td>\n",
       "      <td>3273.399902</td>\n",
       "    </tr>\n",
       "    <tr>\n",
       "      <th>2020-01-30</th>\n",
       "      <td>3285.909912</td>\n",
       "      <td>3242.800049</td>\n",
       "      <td>3256.449951</td>\n",
       "      <td>3283.659912</td>\n",
       "      <td>3787250000</td>\n",
       "      <td>3283.659912</td>\n",
       "    </tr>\n",
       "    <tr>\n",
       "      <th>2020-01-31</th>\n",
       "      <td>3282.330078</td>\n",
       "      <td>3214.679932</td>\n",
       "      <td>3282.330078</td>\n",
       "      <td>3225.520020</td>\n",
       "      <td>4527830000</td>\n",
       "      <td>3225.520020</td>\n",
       "    </tr>\n",
       "  </tbody>\n",
       "</table>\n",
       "<p>1279 rows × 6 columns</p>\n",
       "</div>"
      ],
      "text/plain": [
       "                   High          Low         Open        Close      Volume  \\\n",
       "Date                                                                         \n",
       "2015-01-02  2072.360107  2046.040039  2058.899902  2058.199951  2708700000   \n",
       "2015-01-05  2054.439941  2017.339966  2054.439941  2020.579956  3799120000   \n",
       "2015-01-06  2030.250000  1992.439941  2022.150024  2002.609985  4460110000   \n",
       "2015-01-07  2029.609985  2005.550049  2005.550049  2025.900024  3805480000   \n",
       "2015-01-08  2064.080078  2030.609985  2030.609985  2062.139893  3934010000   \n",
       "...                 ...          ...          ...          ...         ...   \n",
       "2020-01-27  3258.850098  3234.500000  3247.159912  3243.629883  3823100000   \n",
       "2020-01-28  3285.780029  3253.219971  3255.350098  3276.239990  3526720000   \n",
       "2020-01-29  3293.469971  3271.889893  3289.459961  3273.399902  3584500000   \n",
       "2020-01-30  3285.909912  3242.800049  3256.449951  3283.659912  3787250000   \n",
       "2020-01-31  3282.330078  3214.679932  3282.330078  3225.520020  4527830000   \n",
       "\n",
       "              Adj Close  \n",
       "Date                     \n",
       "2015-01-02  2058.199951  \n",
       "2015-01-05  2020.579956  \n",
       "2015-01-06  2002.609985  \n",
       "2015-01-07  2025.900024  \n",
       "2015-01-08  2062.139893  \n",
       "...                 ...  \n",
       "2020-01-27  3243.629883  \n",
       "2020-01-28  3276.239990  \n",
       "2020-01-29  3273.399902  \n",
       "2020-01-30  3283.659912  \n",
       "2020-01-31  3225.520020  \n",
       "\n",
       "[1279 rows x 6 columns]"
      ]
     },
     "execution_count": 35,
     "metadata": {},
     "output_type": "execute_result"
    }
   ],
   "source": [
    "# ticker - you can enter any stock symbol e.g. AAPL, GE, MSFT. The symbol for the S&P500 is ^GSPC.\n",
    "ticker = str(input(\"Enter the symbol: \"))\n",
    "\n",
    "# start_date\n",
    "start_date = str(input(\"Enter the start of the sample period (yyyy-mm-dd): \"))\n",
    "\n",
    "# end_date\n",
    "end_date = str(input(\"Enter the end of the sample period (yyyy-mm-dd): \"))\n",
    "\n",
    "dataSP500 = web.DataReader(ticker, data_source = 'yahoo', start = start_date, end  = end_date)\n",
    "dataSP500"
   ]
  },
  {
   "cell_type": "markdown",
   "metadata": {},
   "source": [
    "<font face= \"calibri\" size=\"4\" color=#1C365B>Historical prices data for the S&P500, from January 2015 to January 2020, is uploaded into a pandas dataframe giving 1279 trading days. \n",
    "We can round up the number of decimals to 2 and then select the column of interest that is Open Price, needed for the RNN algorithm.</font>"
   ]
  },
  {
   "cell_type": "code",
   "execution_count": 36,
   "metadata": {},
   "outputs": [
    {
     "data": {
      "text/plain": [
       "21"
      ]
     },
     "execution_count": 36,
     "metadata": {},
     "output_type": "execute_result"
    }
   ],
   "source": [
    "dataSP500.reset_index(inplace = True, drop = False) \n",
    "dataSP500['Year'] = pd.DatetimeIndex(dataSP500['Date']).year\n",
    "dataSP500['Month'] = pd.DatetimeIndex(dataSP500['Date']).month\n",
    "\n",
    "# To get the number of trading days in January 2020 since this is the sample  we try to predict. # Any other days, months \n",
    "# and years can be selected \n",
    "nb_days_to_pred = len(dataSP500[(dataSP500['Year'] == 2019) & (dataSP500['Month'] == 12)]) #len(data[(data['Year'] == 2020)] & data[(data['Month'] == 1)])\n",
    "nb_days_to_pred"
   ]
  },
  {
   "cell_type": "code",
   "execution_count": 37,
   "metadata": {},
   "outputs": [
    {
     "data": {
      "text/html": [
       "<div>\n",
       "<style scoped>\n",
       "    .dataframe tbody tr th:only-of-type {\n",
       "        vertical-align: middle;\n",
       "    }\n",
       "\n",
       "    .dataframe tbody tr th {\n",
       "        vertical-align: top;\n",
       "    }\n",
       "\n",
       "    .dataframe thead th {\n",
       "        text-align: right;\n",
       "    }\n",
       "</style>\n",
       "<table border=\"1\" class=\"dataframe\">\n",
       "  <thead>\n",
       "    <tr style=\"text-align: right;\">\n",
       "      <th></th>\n",
       "      <th>Open</th>\n",
       "    </tr>\n",
       "  </thead>\n",
       "  <tbody>\n",
       "    <tr>\n",
       "      <th>0</th>\n",
       "      <td>2058.90</td>\n",
       "    </tr>\n",
       "    <tr>\n",
       "      <th>1</th>\n",
       "      <td>2054.44</td>\n",
       "    </tr>\n",
       "    <tr>\n",
       "      <th>2</th>\n",
       "      <td>2022.15</td>\n",
       "    </tr>\n",
       "    <tr>\n",
       "      <th>3</th>\n",
       "      <td>2005.55</td>\n",
       "    </tr>\n",
       "    <tr>\n",
       "      <th>4</th>\n",
       "      <td>2030.61</td>\n",
       "    </tr>\n",
       "    <tr>\n",
       "      <th>...</th>\n",
       "      <td>...</td>\n",
       "    </tr>\n",
       "    <tr>\n",
       "      <th>1274</th>\n",
       "      <td>3247.16</td>\n",
       "    </tr>\n",
       "    <tr>\n",
       "      <th>1275</th>\n",
       "      <td>3255.35</td>\n",
       "    </tr>\n",
       "    <tr>\n",
       "      <th>1276</th>\n",
       "      <td>3289.46</td>\n",
       "    </tr>\n",
       "    <tr>\n",
       "      <th>1277</th>\n",
       "      <td>3256.45</td>\n",
       "    </tr>\n",
       "    <tr>\n",
       "      <th>1278</th>\n",
       "      <td>3282.33</td>\n",
       "    </tr>\n",
       "  </tbody>\n",
       "</table>\n",
       "<p>1279 rows × 1 columns</p>\n",
       "</div>"
      ],
      "text/plain": [
       "         Open\n",
       "0     2058.90\n",
       "1     2054.44\n",
       "2     2022.15\n",
       "3     2005.55\n",
       "4     2030.61\n",
       "...       ...\n",
       "1274  3247.16\n",
       "1275  3255.35\n",
       "1276  3289.46\n",
       "1277  3256.45\n",
       "1278  3282.33\n",
       "\n",
       "[1279 rows x 1 columns]"
      ]
     },
     "execution_count": 37,
     "metadata": {},
     "output_type": "execute_result"
    }
   ],
   "source": [
    "dataSP500 = dataSP500[['Open']]                          # selects the columns of interest \n",
    "dataSP500.reset_index(inplace = True, drop = True)       # sets ordinal numbers as the column index\n",
    "dataSP500 = dataSP500.round(2)                           # rounds the number of decimals to 2\n",
    "dataSP500"
   ]
  },
  {
   "cell_type": "markdown",
   "metadata": {},
   "source": [
    "<font size= 5px color=#185084 face= \"calibri\"><b> 2. Data Preprocessing</b></font> "
   ]
  },
  {
   "cell_type": "code",
   "execution_count": 38,
   "metadata": {},
   "outputs": [
    {
     "name": "stdout",
     "output_type": "stream",
     "text": [
      "Number of trading days in the training set:  1258\n",
      "Number of trading days in the test set:  21\n"
     ]
    }
   ],
   "source": [
    "# Splitting the data between the training set and the test set\n",
    "# The goal is to predict the opening prices for the month of January 2020 (test set) using data from January 2015 to \n",
    "# December 2019 (training set).\n",
    "# We, hence, need to split the data between the training set and test set.\n",
    "\n",
    "# from sklearn.model_selection import train_test_split\n",
    "# train_set, test_Set = train_test_split(dataSP500, test_size = ((len(dataSP500) - 21) / len(dataSP500)), random_state = 0)\n",
    "train_set = dataSP500.iloc[:len(dataSP500) - nb_days_to_pred]\n",
    "test_set = dataSP500.iloc[len(dataSP500) - nb_days_to_pred :]\n",
    "print(\"Number of trading days in the training set: \", len(train_set))\n",
    "print(\"Number of trading days in the test set: \",len(test_set))"
   ]
  },
  {
   "cell_type": "code",
   "execution_count": 39,
   "metadata": {},
   "outputs": [],
   "source": [
    "# Feature Scaling\n",
    "from sklearn.preprocessing import MinMaxScaler\n",
    "sc = MinMaxScaler(feature_range = (0, 1))\n",
    "training_set_scaled = sc.fit_transform(train_set)\n",
    "\n",
    "#\n",
    "# Creating a data structure with 60 timesteps and 1 output\n",
    "X_train = []\n",
    "y_train = []\n",
    "for i in range(60, len(train_set)):\n",
    "    X_train.append(training_set_scaled[i-60:i, 0])   # RNN algorithm is trained using 60 trading days \n",
    "    y_train.append(training_set_scaled[i, 0])        # RNN algorithm is trained to predict the 60th opening trading day\n",
    "X_train, y_train = np.array(X_train), np.array(y_train)\n",
    "\n",
    "# Reshaping\n",
    "X_train = np.reshape(X_train, (X_train.shape[0], X_train.shape[1], 1))"
   ]
  },
  {
   "cell_type": "markdown",
   "metadata": {},
   "source": [
    "<font size= 5px color=#185084 face= \"calibri\"><b> 3. Building the RNN Model</b></font> "
   ]
  },
  {
   "cell_type": "code",
   "execution_count": 40,
   "metadata": {},
   "outputs": [
    {
     "name": "stdout",
     "output_type": "stream",
     "text": [
      "Epoch 1/100\n",
      "1198/1198 [==============================] - 6s 5ms/step - loss: 0.0414\n",
      "Epoch 2/100\n",
      "1198/1198 [==============================] - 4s 3ms/step - loss: 0.0053\n",
      "Epoch 3/100\n",
      "1198/1198 [==============================] - 4s 3ms/step - loss: 0.0051\n",
      "Epoch 4/100\n",
      "1198/1198 [==============================] - 4s 3ms/step - loss: 0.0046\n",
      "Epoch 5/100\n",
      "1198/1198 [==============================] - 4s 3ms/step - loss: 0.0050\n",
      "Epoch 6/100\n",
      "1198/1198 [==============================] - 4s 3ms/step - loss: 0.0042\n",
      "Epoch 7/100\n",
      "1198/1198 [==============================] - 4s 3ms/step - loss: 0.0040\n",
      "Epoch 8/100\n",
      "1198/1198 [==============================] - 4s 3ms/step - loss: 0.0040\n",
      "Epoch 9/100\n",
      "1198/1198 [==============================] - 4s 3ms/step - loss: 0.0039\n",
      "Epoch 10/100\n",
      "1198/1198 [==============================] - 4s 3ms/step - loss: 0.0038\n",
      "Epoch 11/100\n",
      "1198/1198 [==============================] - 4s 3ms/step - loss: 0.0035\n",
      "Epoch 12/100\n",
      "1198/1198 [==============================] - 4s 3ms/step - loss: 0.0034\n",
      "Epoch 13/100\n",
      "1198/1198 [==============================] - 4s 3ms/step - loss: 0.0037\n",
      "Epoch 14/100\n",
      "1198/1198 [==============================] - 4s 3ms/step - loss: 0.0033\n",
      "Epoch 15/100\n",
      "1198/1198 [==============================] - 4s 3ms/step - loss: 0.0033\n",
      "Epoch 16/100\n",
      "1198/1198 [==============================] - 4s 3ms/step - loss: 0.0031\n",
      "Epoch 17/100\n",
      "1198/1198 [==============================] - 4s 3ms/step - loss: 0.0035\n",
      "Epoch 18/100\n",
      "1198/1198 [==============================] - 4s 3ms/step - loss: 0.0033\n",
      "Epoch 19/100\n",
      "1198/1198 [==============================] - 4s 3ms/step - loss: 0.0030\n",
      "Epoch 20/100\n",
      "1198/1198 [==============================] - 4s 3ms/step - loss: 0.0029\n",
      "Epoch 21/100\n",
      "1198/1198 [==============================] - 4s 3ms/step - loss: 0.0030\n",
      "Epoch 22/100\n",
      "1198/1198 [==============================] - 4s 3ms/step - loss: 0.0033\n",
      "Epoch 23/100\n",
      "1198/1198 [==============================] - 4s 3ms/step - loss: 0.0028\n",
      "Epoch 24/100\n",
      "1198/1198 [==============================] - 4s 3ms/step - loss: 0.0026\n",
      "Epoch 25/100\n",
      "1198/1198 [==============================] - 4s 3ms/step - loss: 0.0027\n",
      "Epoch 26/100\n",
      "1198/1198 [==============================] - 4s 3ms/step - loss: 0.0026\n",
      "Epoch 27/100\n",
      "1198/1198 [==============================] - 4s 4ms/step - loss: 0.0025\n",
      "Epoch 28/100\n",
      "1198/1198 [==============================] - 4s 4ms/step - loss: 0.0027\n",
      "Epoch 29/100\n",
      "1198/1198 [==============================] - 4s 3ms/step - loss: 0.0022\n",
      "Epoch 30/100\n",
      "1198/1198 [==============================] - 4s 3ms/step - loss: 0.0023\n",
      "Epoch 31/100\n",
      "1198/1198 [==============================] - 4s 3ms/step - loss: 0.0027\n",
      "Epoch 32/100\n",
      "1198/1198 [==============================] - 4s 3ms/step - loss: 0.0022\n",
      "Epoch 33/100\n",
      "1198/1198 [==============================] - 4s 3ms/step - loss: 0.0020\n",
      "Epoch 34/100\n",
      "1198/1198 [==============================] - 4s 3ms/step - loss: 0.0024\n",
      "Epoch 35/100\n",
      "1198/1198 [==============================] - 4s 3ms/step - loss: 0.0023\n",
      "Epoch 36/100\n",
      "1198/1198 [==============================] - 4s 3ms/step - loss: 0.0029\n",
      "Epoch 37/100\n",
      "1198/1198 [==============================] - 4s 3ms/step - loss: 0.0024\n",
      "Epoch 38/100\n",
      "1198/1198 [==============================] - 4s 3ms/step - loss: 0.0021\n",
      "Epoch 39/100\n",
      "1198/1198 [==============================] - 4s 3ms/step - loss: 0.0022\n",
      "Epoch 40/100\n",
      "1198/1198 [==============================] - 4s 3ms/step - loss: 0.0023\n",
      "Epoch 41/100\n",
      "1198/1198 [==============================] - 4s 3ms/step - loss: 0.0020\n",
      "Epoch 42/100\n",
      "1198/1198 [==============================] - 4s 3ms/step - loss: 0.0019\n",
      "Epoch 43/100\n",
      "1198/1198 [==============================] - 4s 3ms/step - loss: 0.0022\n",
      "Epoch 44/100\n",
      "1198/1198 [==============================] - 4s 4ms/step - loss: 0.0021\n",
      "Epoch 45/100\n",
      "1198/1198 [==============================] - 4s 4ms/step - loss: 0.0019\n",
      "Epoch 46/100\n",
      "1198/1198 [==============================] - 4s 4ms/step - loss: 0.0022\n",
      "Epoch 47/100\n",
      "1198/1198 [==============================] - 4s 4ms/step - loss: 0.0017\n",
      "Epoch 48/100\n",
      "1198/1198 [==============================] - 5s 4ms/step - loss: 0.0018\n",
      "Epoch 49/100\n",
      "1198/1198 [==============================] - 5s 4ms/step - loss: 0.0018\n",
      "Epoch 50/100\n",
      "1198/1198 [==============================] - 5s 4ms/step - loss: 0.0018\n",
      "Epoch 51/100\n",
      "1198/1198 [==============================] - 5s 4ms/step - loss: 0.0018\n",
      "Epoch 52/100\n",
      "1198/1198 [==============================] - 4s 3ms/step - loss: 0.0017\n",
      "Epoch 53/100\n",
      "1198/1198 [==============================] - 4s 4ms/step - loss: 0.0018\n",
      "Epoch 54/100\n",
      "1198/1198 [==============================] - 4s 3ms/step - loss: 0.0019\n",
      "Epoch 55/100\n",
      "1198/1198 [==============================] - 4s 3ms/step - loss: 0.0017\n",
      "Epoch 56/100\n",
      "1198/1198 [==============================] - 4s 3ms/step - loss: 0.0017\n",
      "Epoch 57/100\n",
      "1198/1198 [==============================] - 4s 3ms/step - loss: 0.0020\n",
      "Epoch 58/100\n",
      "1198/1198 [==============================] - 4s 4ms/step - loss: 0.0020\n",
      "Epoch 59/100\n",
      "1198/1198 [==============================] - 4s 3ms/step - loss: 0.0016\n",
      "Epoch 60/100\n",
      "1198/1198 [==============================] - 4s 3ms/step - loss: 0.0018\n",
      "Epoch 61/100\n",
      "1198/1198 [==============================] - 4s 3ms/step - loss: 0.0016\n",
      "Epoch 62/100\n",
      "1198/1198 [==============================] - 4s 3ms/step - loss: 0.0015\n",
      "Epoch 63/100\n",
      "1198/1198 [==============================] - 4s 4ms/step - loss: 0.0015\n",
      "Epoch 64/100\n",
      "1198/1198 [==============================] - 4s 3ms/step - loss: 0.0015\n",
      "Epoch 65/100\n",
      "1198/1198 [==============================] - 4s 4ms/step - loss: 0.0015\n",
      "Epoch 66/100\n",
      "1198/1198 [==============================] - 4s 3ms/step - loss: 0.0016\n",
      "Epoch 67/100\n",
      "1198/1198 [==============================] - 4s 3ms/step - loss: 0.0016\n",
      "Epoch 68/100\n",
      "1198/1198 [==============================] - 4s 4ms/step - loss: 0.0017\n",
      "Epoch 69/100\n",
      "1198/1198 [==============================] - 4s 4ms/step - loss: 0.0014\n",
      "Epoch 70/100\n",
      "1198/1198 [==============================] - 4s 4ms/step - loss: 0.0014\n",
      "Epoch 71/100\n",
      "1198/1198 [==============================] - 4s 4ms/step - loss: 0.0015\n",
      "Epoch 72/100\n",
      "1198/1198 [==============================] - 6s 5ms/step - loss: 0.0015\n",
      "Epoch 73/100\n",
      "1198/1198 [==============================] - 5s 4ms/step - loss: 0.0014\n",
      "Epoch 74/100\n",
      "1198/1198 [==============================] - 6s 5ms/step - loss: 0.0015\n",
      "Epoch 75/100\n",
      "1198/1198 [==============================] - 4s 4ms/step - loss: 0.0015\n",
      "Epoch 76/100\n",
      "1198/1198 [==============================] - 4s 4ms/step - loss: 0.0014\n",
      "Epoch 77/100\n",
      "1198/1198 [==============================] - 4s 4ms/step - loss: 0.0013\n",
      "Epoch 78/100\n",
      "1198/1198 [==============================] - 4s 4ms/step - loss: 0.0014\n",
      "Epoch 79/100\n",
      "1198/1198 [==============================] - 4s 4ms/step - loss: 0.0014\n",
      "Epoch 80/100\n",
      "1198/1198 [==============================] - 4s 4ms/step - loss: 0.0016\n",
      "Epoch 81/100\n",
      "1198/1198 [==============================] - 4s 4ms/step - loss: 0.0013\n",
      "Epoch 82/100\n",
      "1198/1198 [==============================] - 4s 4ms/step - loss: 0.0014\n",
      "Epoch 83/100\n",
      "1198/1198 [==============================] - 4s 4ms/step - loss: 0.0014\n",
      "Epoch 84/100\n",
      "1198/1198 [==============================] - 4s 4ms/step - loss: 0.0013\n",
      "Epoch 85/100\n",
      "1198/1198 [==============================] - 4s 4ms/step - loss: 0.0013\n",
      "Epoch 86/100\n",
      "1198/1198 [==============================] - 4s 4ms/step - loss: 0.0012\n",
      "Epoch 87/100\n",
      "1198/1198 [==============================] - 4s 4ms/step - loss: 0.0013\n",
      "Epoch 88/100\n",
      "1198/1198 [==============================] - 4s 4ms/step - loss: 0.0013\n",
      "Epoch 89/100\n",
      "1198/1198 [==============================] - 4s 4ms/step - loss: 0.0013\n",
      "Epoch 90/100\n",
      "1198/1198 [==============================] - 4s 4ms/step - loss: 0.0013\n",
      "Epoch 91/100\n",
      "1198/1198 [==============================] - 4s 4ms/step - loss: 0.0011\n",
      "Epoch 92/100\n",
      "1198/1198 [==============================] - 4s 4ms/step - loss: 0.0012\n",
      "Epoch 93/100\n",
      "1198/1198 [==============================] - 4s 4ms/step - loss: 0.0012\n",
      "Epoch 94/100\n",
      "1198/1198 [==============================] - 4s 4ms/step - loss: 0.0012\n",
      "Epoch 95/100\n",
      "1198/1198 [==============================] - 4s 4ms/step - loss: 0.0011\n",
      "Epoch 96/100\n",
      "1198/1198 [==============================] - 4s 4ms/step - loss: 0.0013\n",
      "Epoch 97/100\n"
     ]
    },
    {
     "name": "stdout",
     "output_type": "stream",
     "text": [
      "1198/1198 [==============================] - 4s 4ms/step - loss: 0.0016\n",
      "Epoch 98/100\n",
      "1198/1198 [==============================] - 4s 4ms/step - loss: 0.0011\n",
      "Epoch 99/100\n",
      "1198/1198 [==============================] - 4s 4ms/step - loss: 0.0012\n",
      "Epoch 100/100\n",
      "1198/1198 [==============================] - 4s 4ms/step - loss: 0.0011\n"
     ]
    },
    {
     "data": {
      "text/plain": [
       "<keras.callbacks.History at 0x284acbadb88>"
      ]
     },
     "execution_count": 40,
     "metadata": {},
     "output_type": "execute_result"
    }
   ],
   "source": [
    "# Importing the Keras libraries and packages\n",
    "from keras.models import Sequential\n",
    "from keras.layers import Dense\n",
    "from keras.layers import LSTM\n",
    "from keras.layers import Dropout\n",
    "\n",
    "# Initialising the RNN\n",
    "regressor = Sequential()\n",
    "\n",
    "# Adding the first LSTM layer and some Dropout regularisation\n",
    "regressor.add(LSTM(units = 50, return_sequences = True, input_shape = (X_train.shape[1], 1)))\n",
    "regressor.add(Dropout(0.2))\n",
    "\n",
    "# Adding a second LSTM layer and some Dropout regularisation\n",
    "regressor.add(LSTM(units = 50, return_sequences = True))\n",
    "regressor.add(Dropout(0.2))\n",
    "\n",
    "# Adding a third LSTM layer and some Dropout regularisation\n",
    "regressor.add(LSTM(units = 50, return_sequences = True))\n",
    "regressor.add(Dropout(0.2))\n",
    "\n",
    "# Adding a fourth LSTM layer and some Dropout regularisation\n",
    "regressor.add(LSTM(units = 50))\n",
    "regressor.add(Dropout(0.2))\n",
    "\n",
    "# Adding the output layer\n",
    "regressor.add(Dense(units = 1))\n",
    "\n",
    "# Compiling the RNN\n",
    "regressor.compile(optimizer = 'adam', loss = 'mean_squared_error')\n",
    "\n",
    "# Fitting the RNN to the Training set\n",
    "regressor.fit(X_train, y_train, epochs = 100, batch_size = 32)"
   ]
  },
  {
   "cell_type": "markdown",
   "metadata": {},
   "source": [
    "<font size= 5px color=#185084 face= \"calibri\"><b> 4. Making the Predictions and Visualising the Results</b></font> "
   ]
  },
  {
   "cell_type": "markdown",
   "metadata": {},
   "source": [
    "<font face= \"calibri\" size=\"4\" color=#1C365B>The RNN built in this project is a regressor type model because a continuous outcome is being predicted (the S&P500 value or any financial instrument). For Regression, the usual approach to evaluate the model performance is with the metric called RMSE (Root Mean Squared Error). It is calculated as the root of the mean of the squared differences between the predictions and the real values.\n",
    "\n",
    "However for this specific Index Value Prediction problem, evaluating the model with the RMSE does not make much sense, since it is the directions taken by the predictions that are evaluated, rather than the closeness of their values to the real level/value. \n",
    "Checking if the predictions follow the same directions as the real S&P500 levels and not whether the  predictions are close the real stock price is critical in the application of the RNN algorithm. </font>"
   ]
  },
  {
   "cell_type": "code",
   "execution_count": 41,
   "metadata": {},
   "outputs": [],
   "source": [
    "# Getting the real value of the S&P500 for January 2020\n",
    "real_valuesSP500 = np.array(test_set)\n",
    "\n",
    "# Getting the predicted stock price of 2017\n",
    "dataset_total = pd.concat((train_set, test_set), axis = 0)\n",
    "inputs = dataset_total[len(dataset_total) - len(test_set) - 60:].values\n",
    "inputs = inputs.reshape(-1,1)\n",
    "inputs = sc.transform(inputs)\n",
    "X_test = []\n",
    "for i in range(60, 60 + len(real_valuesSP500)):\n",
    "    X_test.append(inputs[i-60:i, 0])\n",
    "X_test = np.array(X_test)\n",
    "X_test = np.reshape(X_test, (X_test.shape[0], X_test.shape[1], 1))\n",
    "predicted_SP500value = regressor.predict(X_test)\n",
    "predicted_SP500value = sc.inverse_transform(predicted_SP500value)"
   ]
  },
  {
   "cell_type": "code",
   "execution_count": 42,
   "metadata": {},
   "outputs": [
    {
     "data": {
      "image/png": "[encoded data removed]",
      "text/plain": [
       "<Figure size 432x288 with 1 Axes>"
      ]
     },
     "metadata": {
      "needs_background": "light"
     },
     "output_type": "display_data"
    }
   ],
   "source": [
    "# Visualising the results\n",
    "\n",
    "plt.plot(real_valuesSP500, color = 'red', label = 'Real S&P500 Index')\n",
    "plt.plot(predicted_SP500value, color = 'blue', label = 'Predicted S&P500 Value')\n",
    "plt.title('S&P500 Prediction')\n",
    "plt.xlabel('Time')\n",
    "plt.ylabel('S&P500')\n",
    "plt.legend()\n",
    "plt.show()\n"
   ]
  },
  {
   "cell_type": "markdown",
   "metadata": {},
   "source": [
    "<font size= 5px color=#185084 face= \"calibri\"><b> 5. Implementing the Strategy </b></font> "
   ]
  },
  {
   "cell_type": "markdown",
   "metadata": {},
   "source": [
    "<font face= \"calibri\" size=\"4\" color=#1C365B> \n",
    "A trading strategy based on the RNN algorithm can then be implemented where the S&P500 is bought at the current day closing time \n",
    "if it is predicted that the next day opening will be higher than current day opening and short sell the S&P500 at the closing trading if it is predicted that next day opening will be lower. </font>"
   ]
  },
  {
   "cell_type": "code",
   "execution_count": 66,
   "metadata": {},
   "outputs": [
    {
     "name": "stdout",
     "output_type": "stream",
     "text": [
      "Real Direction of S&P500 Opening (Higher-Lower): \n",
      "[-1] [-1] [1] [-1] [1] [1] [-1] [1] [-1] [1] [1] [-1] [1] [-1] [1] [-1] [1] [1] [-1] [1]\n",
      "Predicted Direction of S&P500 Opening (Higher-Lower): \n",
      "[-1] [-1] [-1] [1] [1] [1] [1] [1] [1] [1] [1] [1] [1] [1] [-1] [1] [-1] [-1] [-1] [1]\n"
     ]
    }
   ],
   "source": [
    "#  \n",
    "higher_lower_real = np.greater_equal(real_valuesSP500[1:], real_valuesSP500[0:len(real_valuesSP500) -1], ).astype(int)\n",
    "higher_lower_predicted = np.greater_equal(predicted_SP500value[1:], predicted_SP500value[0:len(predicted_SP500value) -1], ).astype(int)\n",
    "\n",
    "# replacing zeros by -1 to refer to the lower opening \n",
    "higher_lower_real[higher_lower_real == 0 ] = -1\n",
    "higher_lower_predicted[higher_lower_predicted == 0 ] = -1\n",
    "\n",
    "# the  + ones (- ones) indicate if the real and predicted value of next day opening was higher (lower) \n",
    "# hence if higher_lower_predicted indicates + one (- one) it means that the S&P500 should be bought (sold)\n",
    "print('Real Direction of S&P500 Opening (Higher-Lower): ')\n",
    "print(*higher_lower_real, sep=' ')\n",
    "print('Predicted Direction of S&P500 Opening (Higher-Lower): ' )\n",
    "print(' '.join(str(value) for value in higher_lower_predicted))"
   ]
  },
  {
   "cell_type": "markdown",
   "metadata": {},
   "source": [
    "<font face= \"calibri\" size=\"4\" color=#1C365B> The Buy-and-Hold strategy of buying for 1000$ of the S&P500 and holding it during the month of January 2020 would have given a return of 1.29% or a profit of 12.90 dollars:</font>  "
   ]
  },
  {
   "cell_type": "markdown",
   "metadata": {},
   "source": [
    "$$ 1000 * (1+ (3286 - 3244)/ 3244)) = 1012.90$$"
   ]
  },
  {
   "cell_type": "markdown",
   "metadata": {},
   "source": [
    "<font face= \"calibri\" size=\"4\" color=#1C365B> Implementing the strategy based on the RNN model would give a profit of 56.02$ or 5.6% return. Note that this return is before trading fees which will almost surely impair the final return on the RNN strategy. </font>  "
   ]
  },
  {
   "cell_type": "code",
   "execution_count": 55,
   "metadata": {},
   "outputs": [
    {
     "name": "stdout",
     "output_type": "stream",
     "text": [
      "Implementing the strategy based on the RNN model would give an outcome of: 1056.02$\n"
     ]
    }
   ],
   "source": [
    "return_RNN = 1000\n",
    "for i in range(len(higher_lower_predicted) - 1):\n",
    "    return_RNN *= 1 + (higher_lower_predicted[i + 1] * (real_valuesSP500[i + 1] - real_valuesSP500[i])/real_valuesSP500[i])\n",
    "print('Implementing the strategy based on the RNN model would give an outcome of:% 5.2f$'  %(return_RNN[0]))"
   ]
  }
 ],
 "metadata": {
  "kernelspec": {
   "display_name": "Python 3",
   "language": "python",
   "name": "python3"
  },
  "language_info": {
   "codemirror_mode": {
    "name": "ipython",
    "version": 3
   },
   "file_extension": ".py",
   "mimetype": "text/x-python",
   "name": "python",
   "nbconvert_exporter": "python",
   "pygments_lexer": "ipython3",
   "version": "3.7.6"
  }
 },
 "nbformat": 4,
 "nbformat_minor": 2
}
